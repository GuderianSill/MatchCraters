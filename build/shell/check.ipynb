{
 "cells": [
  {
   "cell_type": "code",
   "execution_count": 3,
   "metadata": {},
   "outputs": [
    {
     "name": "stdout",
     "output_type": "stream",
     "text": [
      "./MatchCrater --N1 M108320375LE --N2 M179270116LE --filter true --image false\n",
      "./MatchCrater --N1 M108320375RE --N2 M133141426RE --filter true --image false\n",
      "./MatchCrater --N1 M108320375RE --N2 M133154995LE --filter true --image false\n",
      "./MatchCrater --N1 M108320375RE --N2 M142559106LE --filter true --image false\n",
      "./MatchCrater --N1 M108647107RE --N2 M112959276RE --filter true --image false\n",
      "./MatchCrater --N1 M108647107RE --N2 M112938905RE --filter true --image false\n",
      "./MatchCrater --N1 M111085123RE --N2 M112918535RE --filter true --image false\n",
      "./MatchCrater --N1 M111085123RE --N2 M112938905RE --filter true --image false\n",
      "./MatchCrater --N1 M111085123RE --N2 M112959276RE --filter true --image false\n",
      "./MatchCrater --N1 M111085123RE --N2 M182100835LE --filter true --image false\n",
      "./MatchCrater --N1 M112816640RE --N2 M175025396LE --filter true --image false\n",
      "./MatchCrater --N1 M112816640RE --N2 M139431097RE --filter true --image false\n",
      "./MatchCrater --N1 M112816640RE --N2 M175025396RE --filter true --image false\n",
      "./MatchCrater --N1 M112843814LE --N2 M175221021RE --filter true --image false\n",
      "./MatchCrater --N1 M112884588LE --N2 M144275429LE --filter true --image false\n",
      "./MatchCrater --N1 M112884588LE --N2 M175025396RE --filter true --image false\n",
      "./MatchCrater --N1 M113407595RE --N2 M182100835LE --filter true --image false\n",
      "./MatchCrater --N1 M113407595RE --N2 M182100835RE --filter true --image false\n",
      "./MatchCrater --N1 M113427954LE --N2 M182100835LE --filter true --image false\n",
      "./MatchCrater --N1 M174991645LE --N2 M182100835LE --filter true --image false\n",
      "./MatchCrater --N1 M175302035LE --N2 M110922089RE --filter true --image false\n",
      "./MatchCrater --N1 M175302035RE --N2 M139417524LE --filter true --image false\n",
      "./MatchCrater --N1 M175302035RE --N2 M175011897RE --filter true --image false\n",
      "./MatchCrater --N1 M175308784LE --N2 M110922089RE --filter true --image false\n",
      "./MatchCrater --N1 M175308784RE --N2 M175011897RE --filter true --image false\n",
      "./MatchCrater --N1 M180056477LE --N2 M140204654RE --filter true --image false\n",
      "./MatchCrater --N1 M180070774LE --N2 M140218222LE --filter true --image false\n",
      "./MatchCrater --N1 M180070774LE --N2 M140204654RE --filter true --image false\n"
     ]
    }
   ],
   "source": [
    "import os\n",
    "\n",
    "# 指定目录路径\n",
    "specified_directory = 'saves'  # 请替换为实际的指定目录路径\n",
    "\n",
    "# 读取 sh 文件中的命令\n",
    "sh_file_path = 'match4166.sh'  # 请替换为你的 sh 文件的实际路径\n",
    "try:\n",
    "    with open(sh_file_path, 'r') as file:\n",
    "        commands = file.readlines()\n",
    "    commands = [cmd.strip() for cmd in commands if cmd.strip()]\n",
    "\n",
    "    # 遍历每个命令\n",
    "    for command in commands:\n",
    "        # 提取 N1 和 N2 的值\n",
    "        parts = command.split()\n",
    "        n1 = None\n",
    "        n2 = None\n",
    "        for i in range(len(parts)):\n",
    "            if parts[i] == \"--N1\":\n",
    "                n1 = parts[i + 1]\n",
    "            elif parts[i] == \"--N2\":\n",
    "                n2 = parts[i + 1]\n",
    "\n",
    "        # 生成文件夹名称\n",
    "        folder_name = f\"{n1}_{n2}\"\n",
    "\n",
    "        # 组合指定目录和文件夹名称\n",
    "        full_folder_path = os.path.join(specified_directory, folder_name)\n",
    "\n",
    "        # 检查文件夹是否存在\n",
    "        if not os.path.exists(full_folder_path):\n",
    "            #print(f\"命令 {command} 未在 {specified_directory} 下生成对应的文件夹 {folder_name}\")\n",
    "            print(f\"{command}\")\n",
    "except FileNotFoundError:\n",
    "    print(f\"错误：未找到 {sh_file_path} 文件。\")\n",
    "except Exception as e:\n",
    "    print(f\"发生未知错误：{e}\")\n",
    "    "
   ]
  }
 ],
 "metadata": {
  "kernelspec": {
   "display_name": "d2l",
   "language": "python",
   "name": "python3"
  },
  "language_info": {
   "codemirror_mode": {
    "name": "ipython",
    "version": 3
   },
   "file_extension": ".py",
   "mimetype": "text/x-python",
   "name": "python",
   "nbconvert_exporter": "python",
   "pygments_lexer": "ipython3",
   "version": "3.9.21"
  }
 },
 "nbformat": 4,
 "nbformat_minor": 2
}
