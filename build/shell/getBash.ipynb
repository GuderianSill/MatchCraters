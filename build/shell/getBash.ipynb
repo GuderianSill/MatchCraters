{
 "cells": [
  {
   "cell_type": "code",
   "execution_count": 4,
   "metadata": {},
   "outputs": [],
   "source": [
    "# 打开输入文件\n",
    "with open('matchpair.txt', 'r') as infile:\n",
    "    # 读取文件的所有行\n",
    "    lines = infile.readlines()\n",
    "\n",
    "# 用于存储处理后的行\n",
    "new_lines = []\n",
    "for line in lines:\n",
    "    # 去掉首尾的空白字符\n",
    "    line = line.strip()\n",
    "    # 分割每行内容为多个文件名\n",
    "    names = line.split(' ')\n",
    "    if len(names) == 2:\n",
    "        # 去掉 dom_ 前缀\n",
    "        name1 = names[0].replace('dom_int8_', '')\n",
    "        name2 = names[1].replace('dom_int8_', '')\n",
    "        #name1 = names[0]\n",
    "        #name2 = names[1]\n",
    "        # 去掉 .echo.cal.tif 后缀\n",
    "        name1 = name1.replace('.tif', '')\n",
    "        name2 = name2.replace('.tif', '')\n",
    "        # 生成新的命令行\n",
    "        new_line = f\"./MatchCrater --N1 {name1} --N2 {name2} --filter true\"\n",
    "        new_lines.append(new_line)\n",
    "\n",
    "# 打开输出文件\n",
    "with open('matchpair.sh', 'w') as outfile:\n",
    "    # 将处理后的行写入输出文件\n",
    "    for line in new_lines:\n",
    "        outfile.write(line + '\\n')\n"
   ]
  }
 ],
 "metadata": {
  "kernelspec": {
   "display_name": "d2l",
   "language": "python",
   "name": "python3"
  },
  "language_info": {
   "codemirror_mode": {
    "name": "ipython",
    "version": 3
   },
   "file_extension": ".py",
   "mimetype": "text/x-python",
   "name": "python",
   "nbconvert_exporter": "python",
   "pygments_lexer": "ipython3",
   "version": "3.9.21"
  }
 },
 "nbformat": 4,
 "nbformat_minor": 2
}
